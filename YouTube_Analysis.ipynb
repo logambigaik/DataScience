{
 "cells": [
  {
   "cell_type": "code",
   "execution_count": null,
   "id": "9d7c2a7a",
   "metadata": {},
   "outputs": [],
   "source": [
    "import pandas as pd\n",
    "import numpy as np\n",
    "import matplotlib.pyplot as plt\n",
    "import seaborn as sns\n",
    "\n",
    "sns.set(style=\"whitegrid\")\n"
   ]
  },
  {
   "cell_type": "code",
   "execution_count": null,
   "id": "d5f18b8a",
   "metadata": {},
   "outputs": [],
   "source": [
    "us_df = pd.read_csv(\"data/USvideos.csv\")\n",
    "gb_df = pd.read_csv(\"data/GBvideos.csv\")\n"
   ]
  },
  {
   "cell_type": "code",
   "execution_count": null,
   "id": "6096323c",
   "metadata": {},
   "outputs": [],
   "source": [
    "print(us_df.info())\n",
    "print(us_df.describe())\n",
    "print(us_df.isnull().sum())\n"
   ]
  },
  {
   "cell_type": "code",
   "execution_count": null,
   "id": "8c64ba79",
   "metadata": {},
   "outputs": [],
   "source": [
    "us_df = us_df.drop_duplicates()\n",
    "gb_df = gb_df.drop_duplicates()\n",
    "\n",
    "us_df[\"trending_date\"] = pd.to_datetime(us_df[\"trending_date\"], format='%y.%d.%m', errors='coerce')\n",
    "gb_df[\"trending_date\"] = pd.to_datetime(gb_df[\"trending_date\"], format='%y.%d.%m', errors='coerce')\n"
   ]
  },
  {
   "cell_type": "code",
   "execution_count": null,
   "id": "f0f881e1",
   "metadata": {},
   "outputs": [],
   "source": [
    "us_df[\"like_dislike_ratio\"] = us_df.apply(lambda x: x[\"likes\"] / x[\"dislikes\"] if x[\"dislikes\"] != 0 else np.nan, axis=1)\n",
    "gb_df[\"like_dislike_ratio\"] = gb_df.apply(lambda x: x[\"likes\"] / x[\"dislikes\"] if x[\"dislikes\"] != 0 else np.nan, axis=1)\n"
   ]
  },
  {
   "cell_type": "code",
   "execution_count": null,
   "id": "fa7aa06d",
   "metadata": {},
   "outputs": [],
   "source": [
    "us_avg_ratio = us_df[\"likes\"].mean() / us_df[\"dislikes\"].mean()\n",
    "gb_avg_ratio = gb_df[\"likes\"].mean() / gb_df[\"dislikes\"].mean()\n",
    "\n",
    "print(f\"US Avg Like-Dislike Ratio (mean likes / mean dislikes): {us_avg_ratio:.2f}\")\n",
    "print(f\"GB Avg Like-Dislike Ratio (mean likes / mean dislikes): {gb_avg_ratio:.2f}\")\n"
   ]
  },
  {
   "cell_type": "code",
   "execution_count": null,
   "id": "8f6995fa",
   "metadata": {},
   "outputs": [],
   "source": [
    "us_2018 = us_df[us_df[\"trending_date\"].dt.year == 2018]\n",
    "gb_2018 = gb_df[gb_df[\"trending_date\"].dt.year == 2018]\n",
    "\n",
    "us_2018_avg_likes = us_2018[\"likes\"].mean()\n",
    "gb_2018_avg_likes = gb_2018[\"likes\"].mean()\n",
    "\n",
    "print(f\"2018 US Avg Likes: {us_2018_avg_likes:.2f}\")\n",
    "print(f\"2018 GB Avg Likes: {gb_2018_avg_likes:.2f}\")\n"
   ]
  },
  {
   "cell_type": "code",
   "execution_count": null,
   "id": "bafa42e7",
   "metadata": {},
   "outputs": [],
   "source": [
    "def is_polarizing(row):\n",
    "    if pd.isna(row['like_dislike_ratio']):\n",
    "        return False\n",
    "    return 0.8 <= row['like_dislike_ratio'] <= 1.2\n",
    "\n",
    "us_df['is_polarizing'] = us_df.apply(is_polarizing, axis=1)\n",
    "gb_df['is_polarizing'] = gb_df.apply(is_polarizing, axis=1)\n"
   ]
  },
  {
   "cell_type": "code",
   "execution_count": null,
   "id": "a8d06343",
   "metadata": {},
   "outputs": [],
   "source": [
    "us_polarizing = us_df[us_df['is_polarizing'] == True]\n",
    "us_nonpolarizing = us_df[us_df['is_polarizing'] == False]\n",
    "\n",
    "gb_polarizing = gb_df[gb_df['is_polarizing'] == True]\n",
    "gb_nonpolarizing = gb_df[gb_df['is_polarizing'] == False]\n",
    "\n",
    "print(\"US - Avg Views:\")\n",
    "print(us_polarizing[\"views\"].mean(), us_nonpolarizing[\"views\"].mean())\n",
    "\n",
    "print(\"US - Avg Comments:\")\n",
    "print(us_polarizing[\"comment_count\"].mean(), us_nonpolarizing[\"comment_count\"].mean())\n"
   ]
  },
  {
   "cell_type": "code",
   "execution_count": null,
   "id": "978393b1",
   "metadata": {},
   "outputs": [],
   "source": [
    "sns.boxplot(x='is_polarizing', y='views', data=us_df)\n",
    "plt.title(\"Views by Polarization (US)\")\n",
    "plt.show()\n"
   ]
  }
 ],
 "metadata": {
  "kernelspec": {
   "display_name": "Python 3",
   "name": "python3"
  }
 },
 "nbformat": 4,
 "nbformat_minor": 5
}
