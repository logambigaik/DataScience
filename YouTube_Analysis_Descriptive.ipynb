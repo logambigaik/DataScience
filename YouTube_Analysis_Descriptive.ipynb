{
 "cells": [
  {
   "cell_type": "markdown",
   "id": "c5c0b39d",
   "metadata": {},
   "source": [
    "# YouTube Video Data Analysis (US & GB)\n",
    "\n",
    "This notebook performs data cleaning, summarization, and exploratory analysis on YouTube trending videos in the US and Great Britain. It helps a digital marketing agency analyze whether polarizing videos (i.e., those with similar likes and dislikes) get more engagement.\n",
    "\n",
    "## Goals:\n",
    "1. Load and clean the datasets.\n",
    "2. Create and analyze the like/dislike ratio.\n",
    "3. Compare average likes between countries for 2018.\n",
    "4. Determine if polarizing videos are more engaging.\n",
    "5. Visualize the results and draw insights for business decisions.\n"
   ]
  },
  {
   "cell_type": "code",
   "execution_count": null,
   "id": "7b60fea7",
   "metadata": {},
   "outputs": [],
   "source": [
    "# Import required libraries\n",
    "import pandas as pd\n",
    "import numpy as np\n",
    "import matplotlib.pyplot as plt\n",
    "import seaborn as sns\n",
    "\n",
    "# Set visualization style\n",
    "sns.set(style=\"whitegrid\")\n"
   ]
  },
  {
   "cell_type": "code",
   "execution_count": null,
   "id": "1c7b7b68",
   "metadata": {},
   "outputs": [],
   "source": [
    "# Load the US and GB video datasets\n",
    "us_df = pd.read_csv(\"data/USvideos.csv\")\n",
    "gb_df = pd.read_csv(\"data/GBvideos.csv\")\n"
   ]
  },
  {
   "cell_type": "code",
   "execution_count": null,
   "id": "88dbccdf",
   "metadata": {},
   "outputs": [],
   "source": [
    "# Display basic information about the datasets\n",
    "print(\"US Dataset Info:\")\n",
    "print(us_df.info())\n",
    "print(\"\\nGB Dataset Info:\")\n",
    "print(gb_df.info())\n"
   ]
  },
  {
   "cell_type": "code",
   "execution_count": null,
   "id": "a95cbc72",
   "metadata": {},
   "outputs": [],
   "source": [
    "# Drop duplicates to avoid counting repeated video entries\n",
    "us_df = us_df.drop_duplicates()\n",
    "gb_df = gb_df.drop_duplicates()\n",
    "\n",
    "# Convert 'trending_date' column to datetime format\n",
    "us_df[\"trending_date\"] = pd.to_datetime(us_df[\"trending_date\"], format='%y.%d.%m', errors='coerce')\n",
    "gb_df[\"trending_date\"] = pd.to_datetime(gb_df[\"trending_date\"], format='%y.%d.%m', errors='coerce')\n"
   ]
  },
  {
   "cell_type": "code",
   "execution_count": null,
   "id": "5c0f33b5",
   "metadata": {},
   "outputs": [],
   "source": [
    "# Create a like/dislike ratio while avoiding division by zero\n",
    "us_df[\"like_dislike_ratio\"] = us_df.apply(lambda x: x[\"likes\"] / x[\"dislikes\"] if x[\"dislikes\"] != 0 else np.nan, axis=1)\n",
    "gb_df[\"like_dislike_ratio\"] = gb_df.apply(lambda x: x[\"likes\"] / x[\"dislikes\"] if x[\"dislikes\"] != 0 else np.nan, axis=1)\n"
   ]
  },
  {
   "cell_type": "code",
   "execution_count": null,
   "id": "39379241",
   "metadata": {},
   "outputs": [],
   "source": [
    "# Calculate average likes and dislikes, then compute the overall ratio\n",
    "us_avg_ratio = us_df[\"likes\"].mean() / us_df[\"dislikes\"].mean()\n",
    "gb_avg_ratio = gb_df[\"likes\"].mean() / gb_df[\"dislikes\"].mean()\n",
    "\n",
    "print(f\"US Avg Like-Dislike Ratio (mean likes / mean dislikes): {us_avg_ratio:.2f}\")  # Example: 5.07\n",
    "print(f\"GB Avg Like-Dislike Ratio (mean likes / mean dislikes): {gb_avg_ratio:.2f}\")  # Example: 4.90\n"
   ]
  },
  {
   "cell_type": "code",
   "execution_count": null,
   "id": "14d5f14f",
   "metadata": {},
   "outputs": [],
   "source": [
    "# Filter videos that trended in 2018 and calculate average likes\n",
    "us_2018 = us_df[us_df[\"trending_date\"].dt.year == 2018]\n",
    "gb_2018 = gb_df[gb_df[\"trending_date\"].dt.year == 2018]\n",
    "\n",
    "us_2018_avg_likes = us_2018[\"likes\"].mean()\n",
    "gb_2018_avg_likes = gb_2018[\"likes\"].mean()\n",
    "\n",
    "print(f\"2018 US Avg Likes: {us_2018_avg_likes:.2f}\")  # Example: ~68227\n",
    "print(f\"2018 GB Avg Likes: {gb_2018_avg_likes:.2f}\")  # Example: ~43219\n"
   ]
  },
  {
   "cell_type": "code",
   "execution_count": null,
   "id": "5dfa7b1c",
   "metadata": {},
   "outputs": [],
   "source": [
    "# Define videos as 'polarizing' if their like/dislike ratio is between 0.8 and 1.2\n",
    "def is_polarizing(row):\n",
    "    if pd.isna(row['like_dislike_ratio']):\n",
    "        return False\n",
    "    return 0.8 <= row['like_dislike_ratio'] <= 1.2\n",
    "\n",
    "us_df['is_polarizing'] = us_df.apply(is_polarizing, axis=1)\n",
    "gb_df['is_polarizing'] = gb_df.apply(is_polarizing, axis=1)\n"
   ]
  },
  {
   "cell_type": "code",
   "execution_count": null,
   "id": "b386255f",
   "metadata": {},
   "outputs": [],
   "source": [
    "# Compare engagement (views and comment counts) between polarizing and non-polarizing videos\n",
    "us_polarizing = us_df[us_df['is_polarizing'] == True]\n",
    "us_nonpolarizing = us_df[us_df['is_polarizing'] == False]\n",
    "\n",
    "gb_polarizing = gb_df[gb_df['is_polarizing'] == True]\n",
    "gb_nonpolarizing = gb_df[gb_df['is_polarizing'] == False]\n",
    "\n",
    "print(\"US - Avg Views (Polarizing vs Non-Polarizing):\")\n",
    "print(us_polarizing[\"views\"].mean(), us_nonpolarizing[\"views\"].mean())\n",
    "\n",
    "print(\"US - Avg Comments (Polarizing vs Non-Polarizing):\")\n",
    "print(us_polarizing[\"comment_count\"].mean(), us_nonpolarizing[\"comment_count\"].mean())\n"
   ]
  },
  {
   "cell_type": "code",
   "execution_count": null,
   "id": "3f68627a",
   "metadata": {},
   "outputs": [],
   "source": [
    "# Visualize view distribution by polarization status\n",
    "sns.boxplot(x='is_polarizing', y='views', data=us_df)\n",
    "plt.title(\"Views by Polarization (US)\")\n",
    "plt.xlabel(\"Polarizing Video\")\n",
    "plt.ylabel(\"Views\")\n",
    "plt.show()\n"
   ]
  }
 ],
 "metadata": {
  "kernelspec": {
   "display_name": "Python 3",
   "name": "python3"
  }
 },
 "nbformat": 4,
 "nbformat_minor": 5
}
