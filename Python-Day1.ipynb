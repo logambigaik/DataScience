{
  "nbformat": 4,
  "nbformat_minor": 0,
  "metadata": {
    "colab": {
      "provenance": [],
      "toc_visible": true,
      "authorship_tag": "ABX9TyNQitVgS9JDsy7ckW24z+v3",
      "include_colab_link": true
    },
    "kernelspec": {
      "name": "python3",
      "display_name": "Python 3"
    },
    "language_info": {
      "name": "python"
    }
  },
  "cells": [
    {
      "cell_type": "markdown",
      "metadata": {
        "id": "view-in-github",
        "colab_type": "text"
      },
      "source": [
        "<a href=\"https://colab.research.google.com/github/logambigaik/DataScience/blob/main/Python-Day1.ipynb\" target=\"_parent\"><img src=\"https://colab.research.google.com/assets/colab-badge.svg\" alt=\"Open In Colab\"/></a>"
      ]
    },
    {
      "cell_type": "code",
      "execution_count": 3,
      "metadata": {
        "id": "G8zarNtN8JGx"
      },
      "outputs": [],
      "source": [
        "# Python Day 1 -Data Analytics\n",
        "### Hello world\n",
        "\n"
      ]
    },
    {
      "cell_type": "markdown",
      "source": [
        "\n",
        "\n",
        "```\n",
        "# This is formatted as code\n",
        "```\n",
        "\n",
        "# Python Fundamental"
      ],
      "metadata": {
        "id": "yXgGzSHt9eDR"
      }
    },
    {
      "cell_type": "markdown",
      "source": [
        "# hello world"
      ],
      "metadata": {
        "id": "k1g5h-Kn9mbx"
      }
    },
    {
      "cell_type": "markdown",
      "source": [
        "# New section"
      ],
      "metadata": {
        "id": "-kqbqtkH9p_Z"
      }
    },
    {
      "cell_type": "markdown",
      "source": [],
      "metadata": {
        "id": "DDcNN7HD8P_l"
      }
    },
    {
      "cell_type": "code",
      "source": [
        "print('Python')"
      ],
      "metadata": {
        "colab": {
          "base_uri": "https://localhost:8080/"
        },
        "id": "fZJnMFne8Ofh",
        "outputId": "6c5cd0f6-da0f-4668-8500-cda3b0d3d855"
      },
      "execution_count": 5,
      "outputs": [
        {
          "output_type": "stream",
          "name": "stdout",
          "text": [
            "Python\n"
          ]
        }
      ]
    },
    {
      "cell_type": "markdown",
      "source": [
        "Hello How are you?"
      ],
      "metadata": {
        "id": "SJNFf7rlBtr-"
      }
    },
    {
      "cell_type": "code",
      "source": [],
      "metadata": {
        "id": "B_N29yrxBw1r"
      },
      "execution_count": null,
      "outputs": []
    }
  ]
}