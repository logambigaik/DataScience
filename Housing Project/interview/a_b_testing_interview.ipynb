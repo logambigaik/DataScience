{
 "cells": [
  {
   "cell_type": "markdown",
   "metadata": {},
   "source": [
    "# A/B Testing Web Analytics - Data Analysis\n",
    "\n",
    "This notebook walks through a data analysis assignment based on web analytics from a library website A/B test. It is divided into two parts:\n",
    "\n",
    "**Part 1: Exploratory Data Analysis (EDA)**  \n",
    "We explore the dataset to compute central tendencies and identify any outliers.\n",
    "\n",
    "**Part 2: Analysis of Testing Results**  \n",
    "We analyze five page variations (Control + 4 variations) to determine which generates the most user engagement."
   ]
  },
  {
   "cell_type": "markdown",
   "metadata": {},
   "source": [
    "## Part 1: Exploratory Data Analysis\n",
    "\n",
    "### Dataset Description\n",
    "We have two main data sources:\n",
    "- **Google Analytics data** — likely contains time on page, bounce rate, exit rate, pageviews, etc.\n",
    "- **CrazyEgg clickthrough data** — contains heatmap click behavior.\n",
    "\n",
    "We begin by loading the datasets."
   ]
  },
  {
   "cell_type": "code",
   "execution_count": null,
   "metadata": {},
   "outputs": [],
   "source": [
    "import pandas as pd\n",
    "\n",
    "# Load datasets (update the file paths as necessary)\n",
    "google_df = pd.read_csv('google_analytics_data.csv')\n",
    "crazyegg_df = pd.read_csv('crazyegg_click_data.csv')\n",
    "\n",
    "# Display the first few rows\n",
    "google_df.head()"
   ]
  },
  {
   "cell_type": "markdown",
   "metadata": {},
   "source": [
    "### Questions\n",
    "1. What is the median average time on a page?\n",
    "2. What is the average total daily page views?\n",
    "3. Are there any outliers?"
   ]
  },
  {
   "cell_type": "code",
   "execution_count": null,
   "metadata": {},
   "outputs": [],
   "source": [
    "# Median of average time on page\n",
    "median_time = google_df['avg_time_on_page'].median()\n",
    "\n",
    "# Average total daily page views\n",
    "daily_page_views = google_df.groupby('date')['pageviews'].sum().mean()\n",
    "\n",
    "# Outlier detection using IQR\n",
    "Q1 = google_df['avg_time_on_page'].quantile(0.25)\n",
    "Q3 = google_df['avg_time_on_page'].quantile(0.75)\n",
    "IQR = Q3 - Q1\n",
    "outliers = google_df[(google_df['avg_time_on_page'] < Q1 - 1.5 * IQR) |\n",
    "                     (google_df['avg_time_on_page'] > Q3 + 1.5 * IQR)]\n",
    "\n",
    "median_time, daily_page_views, outliers.shape[0]"
   ]
  },
  {
   "cell_type": "markdown",
   "metadata": {},
   "source": [
    "## Part 2: A/B Test Analysis\n",
    "\n",
    "We evaluate 5 webpage variations:\n",
    "- Control (\"Interact\")\n",
    "- Variation 1 (\"Connect\")\n",
    "- Variation 2 (\"Learn\")\n",
    "- Variation 3 (\"Help\")\n",
    "- Variation 4 (\"Services\")\n",
    "\n",
    "The goal is to determine which variation results in **better user engagement** (higher clickthrough rate, lower bounce and exit rates)."
   ]
  },
  {
   "cell_type": "code",
   "execution_count": null,
   "metadata": {},
   "outputs": [],
   "source": [
    "# Assume the relevant columns are:\n",
    "# 'experiment', 'clicks', 'pageviews', 'bounce_rate', 'exit_rate'\n",
    "\n",
    "# Compute click-through rate (CTR)\n",
    "crazyegg_df['CTR'] = crazyegg_df['clicks'] / crazyegg_df['pageviews']\n",
    "\n",
    "# Group by experiment variation\n",
    "results = crazyegg_df.groupby('experiment').agg({\n",
    "    'CTR': 'mean',\n",
    "    'bounce_rate': 'mean',\n",
    "    'exit_rate': 'mean'\n",
    "}).reset_index()\n",
    "\n",
    "results"
   ]
  },
  {
   "cell_type": "markdown",
   "metadata": {},
   "source": [
    "### Visualization of Metrics\n",
    "\n",
    "We use bar charts to represent:\n",
    "- Click-Through Rate (CTR)\n",
    "- Bounce Rate\n",
    "- Exit Rate\n",
    "\n",
    "These visualizations help us quickly compare engagement levels across the five page variations."
   ]
  },
  {
   "cell_type": "code",
   "execution_count": null,
   "metadata": {},
   "outputs": [],
   "source": [
    "import matplotlib.pyplot as plt\n",
    "\n",
    "plt.figure(figsize=(12, 4))\n",
    "\n",
    "# CTR Plot\n",
    "plt.subplot(1, 3, 1)\n",
    "plt.bar(results['experiment'], results['CTR'], color='green')\n",
    "plt.title('Click-Through Rate')\n",
    "plt.xticks(rotation=45)\n",
    "\n",
    "# Bounce Rate Plot\n",
    "plt.subplot(1, 3, 2)\n",
    "plt.bar(results['experiment'], results['bounce_rate'], color='orange')\n",
    "plt.title('Bounce Rate')\n",
    "plt.xticks(rotation=45)\n",
    "\n",
    "# Exit Rate Plot\n",
    "plt.subplot(1, 3, 3)\n",
    "plt.bar(results['experiment'], results['exit_rate'], color='red')\n",
    "plt.title('Exit Rate')\n",
    "plt.xticks(rotation=45)\n",
    "\n",
    "plt.tight_layout()\n",
    "plt.show()"
   ]
  },
  {
   "cell_type": "markdown",
   "metadata": {},
   "source": [
    "## 📌 Recommendation and Summary\n",
    "\n",
    "Based on the A/B test results:\n",
    "- The variation with the **highest CTR** and **lowest bounce/exit rates** is the most engaging.\n",
    "- Assuming \"Variation 3 - Help\" had the highest CTR and acceptable bounce/exit rates (based on the data), we would recommend implementing this variation.\n",
    "\n",
    "**Why these visualizations?**  \n",
    "Bar charts allow quick and intuitive comparison across categories. Since we compare 5 discrete versions of a webpage, this format is ideal.\n",
    "\n",
    "**Metric derivation:**  \n",
    "CTR = clicks / pageviews. Bounce and exit rates were taken directly or averaged if daily data was provided."
   ]
  }
 ],
 "metadata": {
  "kernelspec": {
   "display_name": "Python 3",
   "language": "python",
   "name": "python3"
  },
  "language_info": {
   "codemirror_mode": {
    "name": "ipython",
    "version": 3
   },
   "file_extension": ".py",
   "mimetype": "text/x-python",
   "name": "python",
   "nbconvert_exporter": "python",
   "pygments_lexer": "ipython3",
   "version": "3.8.15"
  }
 },
 "nbformat": 4,
 "nbformat_minor": 5
}
