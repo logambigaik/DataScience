{
 "cells": [
  {
   "cell_type": "markdown",
   "id": "e49bf37e",
   "metadata": {},
   "source": [
    "# Honey Production Analysis with Linear Regression"
   ]
  },
  {
   "cell_type": "code",
   "execution_count": null,
   "id": "4b67e88c",
   "metadata": {},
   "outputs": [],
   "source": [
    "import codecademylib3_seaborn\n",
    "import pandas as pd\n",
    "import matplotlib.pyplot as plt\n",
    "import numpy as np\n",
    "from sklearn import linear_model"
   ]
  },
  {
   "cell_type": "markdown",
   "id": "15f6c494",
   "metadata": {},
   "source": [
    "## Step 1: Load and Preview the Data\n",
    "We load the dataset containing honey production data in the US."
   ]
  },
  {
   "cell_type": "code",
   "execution_count": null,
   "id": "b269f8de",
   "metadata": {},
   "outputs": [],
   "source": [
    "df = pd.read_csv(\"https://content.codecademy.com/programs/data-science-path/linear_regression/honeyproduction.csv\")\n",
    "print(df.head(5))"
   ]
  },
  {
   "cell_type": "markdown",
   "id": "a5d4662b",
   "metadata": {},
   "source": [
    "## Step 2: Average Total Production per Year\n",
    "We group the data by year and calculate the average total honey production."
   ]
  },
  {
   "cell_type": "code",
   "execution_count": null,
   "id": "92aea8e2",
   "metadata": {},
   "outputs": [],
   "source": [
    "prod_per_year = df.groupby('year').totalprod.mean()\n",
    "print(prod_per_year)"
   ]
  },
  {
   "cell_type": "markdown",
   "id": "c2d8d648",
   "metadata": {},
   "source": [
    "## Step 3: Prepare Feature and Target Variables"
   ]
  },
  {
   "cell_type": "code",
   "execution_count": null,
   "id": "35c259d9",
   "metadata": {},
   "outputs": [],
   "source": [
    "X = prod_per_year.index.values.reshape(-1, 1)\n",
    "y = prod_per_year.values\n",
    "print(X)\n",
    "print(y)"
   ]
  },
  {
   "cell_type": "markdown",
   "id": "a619a561",
   "metadata": {},
   "source": [
    "## Step 4: Visualize Data\n",
    "We plot a scatterplot to visualize honey production over the years."
   ]
  },
  {
   "cell_type": "code",
   "execution_count": null,
   "id": "2be1b0b6",
   "metadata": {},
   "outputs": [],
   "source": [
    "plt.scatter(X, y)\n",
    "plt.xlabel(\"Year\")\n",
    "plt.ylabel(\"Average Total Production\")\n",
    "plt.title(\"Honey Production Over Time\")"
   ]
  },
  {
   "cell_type": "markdown",
   "id": "c455f85b",
   "metadata": {},
   "source": [
    "## Step 5: Fit Linear Regression Model"
   ]
  },
  {
   "cell_type": "code",
   "execution_count": null,
   "id": "0dfd4cc1",
   "metadata": {},
   "outputs": [],
   "source": [
    "regr = linear_model.LinearRegression()\n",
    "regr.fit(X, y)\n",
    "print(\"Slope:\", regr.coef_[0])\n",
    "print(\"Intercept:\", regr.intercept_)"
   ]
  },
  {
   "cell_type": "markdown",
   "id": "13b2e75c",
   "metadata": {},
   "source": [
    "## Step 6: Predict Production on Known Years"
   ]
  },
  {
   "cell_type": "code",
   "execution_count": null,
   "id": "3fbddb02",
   "metadata": {},
   "outputs": [],
   "source": [
    "y_predict = regr.predict(X)\n",
    "plt.scatter(X, y)\n",
    "plt.plot(X, y_predict, color='red')\n",
    "plt.xlabel(\"Year\")\n",
    "plt.ylabel(\"Average Total Production\")\n",
    "plt.title(\"Regression Line Over Scatterplot\")\n ## OR plot_data(X, y, y_predict, X_future, future_predict)",
    "plt.show()"
   ]
  },
  {
   "cell_type": "markdown",
   "id": "755d0431",
   "metadata": {},
   "source": [
    "## Step 7: Predict Future Honey Production\n",
    "We use our model to forecast production from 2013 to 2049."
   ]
  },
  {
   "cell_type": "code",
   "execution_count": null,
   "id": "7430c050",
   "metadata": {},
   "outputs": [],
   "source": [
    "X_future = np.array(range(2013, 2050)).reshape(-1, 1)\n",
    "future_predict = regr.predict(X_future)\n",
    "\n",
    "plt.plot(X, y, label='Historical Data')\n",
    "plt.plot(X_future, future_predict, label='Future Prediction', color='green')\n",
    "plt.xlabel(\"Year\")\n",
    "plt.ylabel(\"Average Total Production\")\n",
    "plt.title(\"Forecasting Honey Production\")\n",
    "plt.legend()\n",
    "plt.show()"
   ]
  }
 ],
 "metadata": {},
 "nbformat": 4,
 "nbformat_minor": 5
}
